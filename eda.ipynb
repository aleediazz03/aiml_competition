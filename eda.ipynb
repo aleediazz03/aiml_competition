{
 "cells": [
  {
   "cell_type": "code",
   "execution_count": 2,
   "source": [
    "import pandas as pd\n",
    "import numpy as np\n",
    "import matplotlib.pyplot as plt\n",
    "import seaborn as sns\n",
    "from sklearn.model_selection import train_test_split\n",
    "from sklearn.pipeline import pipeline\n",
    "from sklearn.preprocessing import StandardScaler, OneHotEncoder\n",
    "from sklearn.compose import ColumnTransformer\n"
   ],
   "outputs": [],
   "metadata": {}
  },
  {
   "cell_type": "code",
   "execution_count": 3,
   "source": [
    "df = pd.read_csv(\"train.csv\")"
   ],
   "outputs": [],
   "metadata": {}
  },
  {
   "cell_type": "code",
   "execution_count": 4,
   "source": [
    "df.head()"
   ],
   "outputs": [
    {
     "output_type": "execute_result",
     "data": {
      "text/html": [
       "<div>\n",
       "<style scoped>\n",
       "    .dataframe tbody tr th:only-of-type {\n",
       "        vertical-align: middle;\n",
       "    }\n",
       "\n",
       "    .dataframe tbody tr th {\n",
       "        vertical-align: top;\n",
       "    }\n",
       "\n",
       "    .dataframe thead th {\n",
       "        text-align: right;\n",
       "    }\n",
       "</style>\n",
       "<table border=\"1\" class=\"dataframe\">\n",
       "  <thead>\n",
       "    <tr style=\"text-align: right;\">\n",
       "      <th></th>\n",
       "      <th>age</th>\n",
       "      <th>job</th>\n",
       "      <th>marital</th>\n",
       "      <th>education</th>\n",
       "      <th>default</th>\n",
       "      <th>housing</th>\n",
       "      <th>loan</th>\n",
       "      <th>contact</th>\n",
       "      <th>month</th>\n",
       "      <th>day_of_week</th>\n",
       "      <th>...</th>\n",
       "      <th>campaign</th>\n",
       "      <th>pdays</th>\n",
       "      <th>previous</th>\n",
       "      <th>poutcome</th>\n",
       "      <th>emp.var.rate</th>\n",
       "      <th>cons.price.idx</th>\n",
       "      <th>cons.conf.idx</th>\n",
       "      <th>euribor3m</th>\n",
       "      <th>nr.employed</th>\n",
       "      <th>y</th>\n",
       "    </tr>\n",
       "  </thead>\n",
       "  <tbody>\n",
       "    <tr>\n",
       "      <th>0</th>\n",
       "      <td>51</td>\n",
       "      <td>technician</td>\n",
       "      <td>married</td>\n",
       "      <td>basic.6y</td>\n",
       "      <td>unknown</td>\n",
       "      <td>yes</td>\n",
       "      <td>yes</td>\n",
       "      <td>telephone</td>\n",
       "      <td>may</td>\n",
       "      <td>fri</td>\n",
       "      <td>...</td>\n",
       "      <td>1</td>\n",
       "      <td>999</td>\n",
       "      <td>0</td>\n",
       "      <td>nonexistent</td>\n",
       "      <td>1.1</td>\n",
       "      <td>93.994</td>\n",
       "      <td>-36.4</td>\n",
       "      <td>4.857</td>\n",
       "      <td>5191.0</td>\n",
       "      <td>no</td>\n",
       "    </tr>\n",
       "    <tr>\n",
       "      <th>1</th>\n",
       "      <td>50</td>\n",
       "      <td>blue-collar</td>\n",
       "      <td>married</td>\n",
       "      <td>basic.9y</td>\n",
       "      <td>no</td>\n",
       "      <td>yes</td>\n",
       "      <td>no</td>\n",
       "      <td>telephone</td>\n",
       "      <td>may</td>\n",
       "      <td>thu</td>\n",
       "      <td>...</td>\n",
       "      <td>2</td>\n",
       "      <td>999</td>\n",
       "      <td>0</td>\n",
       "      <td>nonexistent</td>\n",
       "      <td>1.1</td>\n",
       "      <td>93.994</td>\n",
       "      <td>-36.4</td>\n",
       "      <td>4.855</td>\n",
       "      <td>5191.0</td>\n",
       "      <td>no</td>\n",
       "    </tr>\n",
       "    <tr>\n",
       "      <th>2</th>\n",
       "      <td>29</td>\n",
       "      <td>self-employed</td>\n",
       "      <td>single</td>\n",
       "      <td>professional.course</td>\n",
       "      <td>no</td>\n",
       "      <td>yes</td>\n",
       "      <td>no</td>\n",
       "      <td>cellular</td>\n",
       "      <td>may</td>\n",
       "      <td>wed</td>\n",
       "      <td>...</td>\n",
       "      <td>2</td>\n",
       "      <td>999</td>\n",
       "      <td>1</td>\n",
       "      <td>failure</td>\n",
       "      <td>-1.8</td>\n",
       "      <td>92.893</td>\n",
       "      <td>-46.2</td>\n",
       "      <td>1.281</td>\n",
       "      <td>5099.1</td>\n",
       "      <td>yes</td>\n",
       "    </tr>\n",
       "    <tr>\n",
       "      <th>3</th>\n",
       "      <td>42</td>\n",
       "      <td>services</td>\n",
       "      <td>married</td>\n",
       "      <td>university.degree</td>\n",
       "      <td>no</td>\n",
       "      <td>yes</td>\n",
       "      <td>no</td>\n",
       "      <td>cellular</td>\n",
       "      <td>apr</td>\n",
       "      <td>mon</td>\n",
       "      <td>...</td>\n",
       "      <td>6</td>\n",
       "      <td>999</td>\n",
       "      <td>0</td>\n",
       "      <td>nonexistent</td>\n",
       "      <td>-1.8</td>\n",
       "      <td>93.075</td>\n",
       "      <td>-47.1</td>\n",
       "      <td>1.405</td>\n",
       "      <td>5099.1</td>\n",
       "      <td>no</td>\n",
       "    </tr>\n",
       "    <tr>\n",
       "      <th>4</th>\n",
       "      <td>25</td>\n",
       "      <td>technician</td>\n",
       "      <td>single</td>\n",
       "      <td>professional.course</td>\n",
       "      <td>no</td>\n",
       "      <td>yes</td>\n",
       "      <td>no</td>\n",
       "      <td>cellular</td>\n",
       "      <td>jul</td>\n",
       "      <td>mon</td>\n",
       "      <td>...</td>\n",
       "      <td>2</td>\n",
       "      <td>999</td>\n",
       "      <td>0</td>\n",
       "      <td>nonexistent</td>\n",
       "      <td>1.4</td>\n",
       "      <td>93.918</td>\n",
       "      <td>-42.7</td>\n",
       "      <td>4.960</td>\n",
       "      <td>5228.1</td>\n",
       "      <td>no</td>\n",
       "    </tr>\n",
       "  </tbody>\n",
       "</table>\n",
       "<p>5 rows × 21 columns</p>\n",
       "</div>"
      ],
      "text/plain": [
       "   age            job  marital            education  default housing loan  \\\n",
       "0   51     technician  married             basic.6y  unknown     yes  yes   \n",
       "1   50    blue-collar  married             basic.9y       no     yes   no   \n",
       "2   29  self-employed   single  professional.course       no     yes   no   \n",
       "3   42       services  married    university.degree       no     yes   no   \n",
       "4   25     technician   single  professional.course       no     yes   no   \n",
       "\n",
       "     contact month day_of_week  ...  campaign  pdays  previous     poutcome  \\\n",
       "0  telephone   may         fri  ...         1    999         0  nonexistent   \n",
       "1  telephone   may         thu  ...         2    999         0  nonexistent   \n",
       "2   cellular   may         wed  ...         2    999         1      failure   \n",
       "3   cellular   apr         mon  ...         6    999         0  nonexistent   \n",
       "4   cellular   jul         mon  ...         2    999         0  nonexistent   \n",
       "\n",
       "  emp.var.rate  cons.price.idx  cons.conf.idx  euribor3m  nr.employed    y  \n",
       "0          1.1          93.994          -36.4      4.857       5191.0   no  \n",
       "1          1.1          93.994          -36.4      4.855       5191.0   no  \n",
       "2         -1.8          92.893          -46.2      1.281       5099.1  yes  \n",
       "3         -1.8          93.075          -47.1      1.405       5099.1   no  \n",
       "4          1.4          93.918          -42.7      4.960       5228.1   no  \n",
       "\n",
       "[5 rows x 21 columns]"
      ]
     },
     "metadata": {},
     "execution_count": 4
    }
   ],
   "metadata": {}
  },
  {
   "cell_type": "code",
   "execution_count": 5,
   "source": [
    "df.isna().sum().sum()"
   ],
   "outputs": [
    {
     "output_type": "execute_result",
     "data": {
      "text/plain": [
       "0"
      ]
     },
     "metadata": {},
     "execution_count": 5
    }
   ],
   "metadata": {}
  },
  {
   "cell_type": "code",
   "execution_count": 6,
   "source": [
    "df.info()"
   ],
   "outputs": [
    {
     "output_type": "stream",
     "name": "stdout",
     "text": [
      "<class 'pandas.core.frame.DataFrame'>\n",
      "RangeIndex: 32950 entries, 0 to 32949\n",
      "Data columns (total 21 columns):\n",
      " #   Column          Non-Null Count  Dtype  \n",
      "---  ------          --------------  -----  \n",
      " 0   age             32950 non-null  int64  \n",
      " 1   job             32950 non-null  object \n",
      " 2   marital         32950 non-null  object \n",
      " 3   education       32950 non-null  object \n",
      " 4   default         32950 non-null  object \n",
      " 5   housing         32950 non-null  object \n",
      " 6   loan            32950 non-null  object \n",
      " 7   contact         32950 non-null  object \n",
      " 8   month           32950 non-null  object \n",
      " 9   day_of_week     32950 non-null  object \n",
      " 10  duration        32950 non-null  int64  \n",
      " 11  campaign        32950 non-null  int64  \n",
      " 12  pdays           32950 non-null  int64  \n",
      " 13  previous        32950 non-null  int64  \n",
      " 14  poutcome        32950 non-null  object \n",
      " 15  emp.var.rate    32950 non-null  float64\n",
      " 16  cons.price.idx  32950 non-null  float64\n",
      " 17  cons.conf.idx   32950 non-null  float64\n",
      " 18  euribor3m       32950 non-null  float64\n",
      " 19  nr.employed     32950 non-null  float64\n",
      " 20  y               32950 non-null  object \n",
      "dtypes: float64(5), int64(5), object(11)\n",
      "memory usage: 5.3+ MB\n"
     ]
    }
   ],
   "metadata": {}
  },
  {
   "cell_type": "markdown",
   "source": [
    "### Age"
   ],
   "metadata": {}
  },
  {
   "cell_type": "code",
   "execution_count": 36,
   "source": [
    "df['age'].hist()"
   ],
   "outputs": [
    {
     "output_type": "execute_result",
     "data": {
      "text/plain": [
       "<Axes: >"
      ]
     },
     "metadata": {},
     "execution_count": 36
    },
    {
     "output_type": "display_data",
     "data": {
      "image/png": "[encoded data removed]",
      "text/plain": [
       "<Figure size 640x480 with 1 Axes>"
      ]
     },
     "metadata": {}
    }
   ],
   "metadata": {}
  },
  {
   "cell_type": "markdown",
   "source": [
    "### Job"
   ],
   "metadata": {}
  },
  {
   "cell_type": "code",
   "execution_count": 37,
   "source": [
    "df['job'].value_counts()"
   ],
   "outputs": [
    {
     "output_type": "execute_result",
     "data": {
      "text/plain": [
       "admin.           8341\n",
       "blue-collar      7390\n",
       "technician       5379\n",
       "services         3189\n",
       "management       2357\n",
       "retired          1399\n",
       "entrepreneur     1174\n",
       "self-employed    1139\n",
       "housemaid         857\n",
       "unemployed        782\n",
       "student           688\n",
       "unknown           255\n",
       "Name: job, dtype: int64"
      ]
     },
     "metadata": {},
     "execution_count": 37
    }
   ],
   "metadata": {}
  },
  {
   "cell_type": "markdown",
   "source": [
    "### Marital Status"
   ],
   "metadata": {}
  },
  {
   "cell_type": "code",
   "execution_count": 38,
   "source": [
    "df['marital'].value_counts()"
   ],
   "outputs": [
    {
     "output_type": "execute_result",
     "data": {
      "text/plain": [
       "married     19968\n",
       "single       9238\n",
       "divorced     3681\n",
       "unknown        63\n",
       "Name: marital, dtype: int64"
      ]
     },
     "metadata": {},
     "execution_count": 38
    }
   ],
   "metadata": {}
  },
  {
   "cell_type": "code",
   "execution_count": 39,
   "source": [
    "19968/(len(df))"
   ],
   "outputs": [
    {
     "output_type": "execute_result",
     "data": {
      "text/plain": [
       "0.6060091047040971"
      ]
     },
     "metadata": {},
     "execution_count": 39
    }
   ],
   "metadata": {}
  },
  {
   "cell_type": "markdown",
   "source": [
    "### Education"
   ],
   "metadata": {}
  },
  {
   "cell_type": "code",
   "execution_count": 40,
   "source": [
    "df['education'].value_counts()"
   ],
   "outputs": [
    {
     "output_type": "execute_result",
     "data": {
      "text/plain": [
       "university.degree      9785\n",
       "high.school            7626\n",
       "basic.9y               4821\n",
       "professional.course    4173\n",
       "basic.4y               3320\n",
       "basic.6y               1828\n",
       "unknown                1384\n",
       "illiterate               13\n",
       "Name: education, dtype: int64"
      ]
     },
     "metadata": {},
     "execution_count": 40
    }
   ],
   "metadata": {}
  },
  {
   "cell_type": "markdown",
   "source": [
    "### Default"
   ],
   "metadata": {}
  },
  {
   "cell_type": "code",
   "execution_count": 41,
   "source": [
    "df['default'].value_counts()"
   ],
   "outputs": [
    {
     "output_type": "execute_result",
     "data": {
      "text/plain": [
       "no         26075\n",
       "unknown     6872\n",
       "yes            3\n",
       "Name: default, dtype: int64"
      ]
     },
     "metadata": {},
     "execution_count": 41
    }
   ],
   "metadata": {}
  },
  {
   "cell_type": "code",
   "execution_count": 44,
   "source": [
    "6872/len(df)"
   ],
   "outputs": [
    {
     "output_type": "execute_result",
     "data": {
      "text/plain": [
       "0.20855842185128984"
      ]
     },
     "metadata": {},
     "execution_count": 44
    }
   ],
   "metadata": {}
  },
  {
   "cell_type": "markdown",
   "source": [
    "### Housing"
   ],
   "metadata": {}
  },
  {
   "cell_type": "code",
   "execution_count": 43,
   "source": [
    "df['housing'].value_counts()"
   ],
   "outputs": [
    {
     "output_type": "execute_result",
     "data": {
      "text/plain": [
       "yes        17283\n",
       "no         14866\n",
       "unknown      801\n",
       "Name: housing, dtype: int64"
      ]
     },
     "metadata": {},
     "execution_count": 43
    }
   ],
   "metadata": {}
  },
  {
   "cell_type": "markdown",
   "source": [
    "### Loan"
   ],
   "metadata": {}
  },
  {
   "cell_type": "code",
   "execution_count": 45,
   "source": [
    "df['loan'].value_counts()"
   ],
   "outputs": [
    {
     "output_type": "execute_result",
     "data": {
      "text/plain": [
       "no         27161\n",
       "yes         4988\n",
       "unknown      801\n",
       "Name: loan, dtype: int64"
      ]
     },
     "metadata": {},
     "execution_count": 45
    }
   ],
   "metadata": {}
  },
  {
   "cell_type": "markdown",
   "source": [
    "### Contact"
   ],
   "metadata": {}
  },
  {
   "cell_type": "code",
   "execution_count": 46,
   "source": [
    "df['contact'].value_counts()"
   ],
   "outputs": [
    {
     "output_type": "execute_result",
     "data": {
      "text/plain": [
       "cellular     20893\n",
       "telephone    12057\n",
       "Name: contact, dtype: int64"
      ]
     },
     "metadata": {},
     "execution_count": 46
    }
   ],
   "metadata": {}
  },
  {
   "cell_type": "markdown",
   "source": [
    "### Month"
   ],
   "metadata": {}
  },
  {
   "cell_type": "code",
   "execution_count": 47,
   "source": [
    "df['month'].value_counts()"
   ],
   "outputs": [
    {
     "output_type": "execute_result",
     "data": {
      "text/plain": [
       "may    11039\n",
       "jul     5760\n",
       "aug     4910\n",
       "jun     4248\n",
       "nov     3327\n",
       "apr     2059\n",
       "oct      568\n",
       "sep      452\n",
       "mar      437\n",
       "dec      150\n",
       "Name: month, dtype: int64"
      ]
     },
     "metadata": {},
     "execution_count": 47
    }
   ],
   "metadata": {}
  },
  {
   "cell_type": "markdown",
   "source": [
    "### Day of the Week"
   ],
   "metadata": {}
  },
  {
   "cell_type": "code",
   "execution_count": 48,
   "source": [
    "df['day_of_week'].value_counts()"
   ],
   "outputs": [
    {
     "output_type": "execute_result",
     "data": {
      "text/plain": [
       "thu    6899\n",
       "mon    6796\n",
       "tue    6465\n",
       "wed    6461\n",
       "fri    6329\n",
       "Name: day_of_week, dtype: int64"
      ]
     },
     "metadata": {},
     "execution_count": 48
    }
   ],
   "metadata": {}
  },
  {
   "cell_type": "markdown",
   "source": [
    "### Duration"
   ],
   "metadata": {}
  },
  {
   "cell_type": "code",
   "execution_count": 49,
   "source": [
    "df['duration'].hist()"
   ],
   "outputs": [
    {
     "output_type": "execute_result",
     "data": {
      "text/plain": [
       "<Axes: >"
      ]
     },
     "metadata": {},
     "execution_count": 49
    },
    {
     "output_type": "display_data",
     "data": {
      "image/png": "[encoded data removed]",
      "text/plain": [
       "<Figure size 640x480 with 1 Axes>"
      ]
     },
     "metadata": {}
    }
   ],
   "metadata": {
    "scrolled": true
   }
  },
  {
   "cell_type": "code",
   "execution_count": 51,
   "source": [
    "df['duration'].describe()"
   ],
   "outputs": [
    {
     "output_type": "execute_result",
     "data": {
      "text/plain": [
       "count    32950.000000\n",
       "mean       258.247436\n",
       "std        257.192944\n",
       "min          0.000000\n",
       "25%        102.000000\n",
       "50%        180.000000\n",
       "75%        320.000000\n",
       "max       4199.000000\n",
       "Name: duration, dtype: float64"
      ]
     },
     "metadata": {},
     "execution_count": 51
    }
   ],
   "metadata": {}
  },
  {
   "cell_type": "markdown",
   "source": [
    "### Campaign"
   ],
   "metadata": {}
  },
  {
   "cell_type": "code",
   "execution_count": null,
   "source": [],
   "outputs": [],
   "metadata": {}
  },
  {
   "cell_type": "markdown",
   "source": [
    "### Pdays"
   ],
   "metadata": {}
  },
  {
   "cell_type": "code",
   "execution_count": null,
   "source": [],
   "outputs": [],
   "metadata": {}
  },
  {
   "cell_type": "markdown",
   "source": [
    "### Previous"
   ],
   "metadata": {}
  },
  {
   "cell_type": "code",
   "execution_count": null,
   "source": [],
   "outputs": [],
   "metadata": {}
  },
  {
   "cell_type": "markdown",
   "source": [
    "### Poutcome"
   ],
   "metadata": {}
  },
  {
   "cell_type": "code",
   "execution_count": null,
   "source": [],
   "outputs": [],
   "metadata": {}
  },
  {
   "cell_type": "markdown",
   "source": [
    "### Emp.var.rate"
   ],
   "metadata": {}
  },
  {
   "cell_type": "code",
   "execution_count": null,
   "source": [],
   "outputs": [],
   "metadata": {}
  },
  {
   "cell_type": "markdown",
   "source": [
    "### Cons.price.idx"
   ],
   "metadata": {}
  },
  {
   "cell_type": "code",
   "execution_count": null,
   "source": [],
   "outputs": [],
   "metadata": {}
  },
  {
   "cell_type": "markdown",
   "source": [
    "### Cons.conf.idx"
   ],
   "metadata": {}
  },
  {
   "cell_type": "code",
   "execution_count": null,
   "source": [],
   "outputs": [],
   "metadata": {}
  },
  {
   "cell_type": "markdown",
   "source": [
    "### Euribor3m"
   ],
   "metadata": {}
  },
  {
   "cell_type": "code",
   "execution_count": null,
   "source": [],
   "outputs": [],
   "metadata": {}
  },
  {
   "cell_type": "markdown",
   "source": [
    "### Nr.employed"
   ],
   "metadata": {}
  },
  {
   "cell_type": "code",
   "execution_count": null,
   "source": [],
   "outputs": [],
   "metadata": {}
  },
  {
   "cell_type": "markdown",
   "source": [
    "## Y"
   ],
   "metadata": {}
  },
  {
   "cell_type": "code",
   "execution_count": null,
   "source": [],
   "outputs": [],
   "metadata": {}
  },
  {
   "cell_type": "code",
   "execution_count": 8,
   "source": [
    "corr = df.corr(numeric_only=True)"
   ],
   "outputs": [],
   "metadata": {}
  },
  {
   "cell_type": "code",
   "execution_count": 9,
   "source": [
    "corr"
   ],
   "outputs": [
    {
     "output_type": "execute_result",
     "data": {
      "text/html": [
       "<div>\n",
       "<style scoped>\n",
       "    .dataframe tbody tr th:only-of-type {\n",
       "        vertical-align: middle;\n",
       "    }\n",
       "\n",
       "    .dataframe tbody tr th {\n",
       "        vertical-align: top;\n",
       "    }\n",
       "\n",
       "    .dataframe thead th {\n",
       "        text-align: right;\n",
       "    }\n",
       "</style>\n",
       "<table border=\"1\" class=\"dataframe\">\n",
       "  <thead>\n",
       "    <tr style=\"text-align: right;\">\n",
       "      <th></th>\n",
       "      <th>age</th>\n",
       "      <th>duration</th>\n",
       "      <th>campaign</th>\n",
       "      <th>pdays</th>\n",
       "      <th>previous</th>\n",
       "      <th>emp.var.rate</th>\n",
       "      <th>cons.price.idx</th>\n",
       "      <th>cons.conf.idx</th>\n",
       "      <th>euribor3m</th>\n",
       "      <th>nr.employed</th>\n",
       "    </tr>\n",
       "  </thead>\n",
       "  <tbody>\n",
       "    <tr>\n",
       "      <th>age</th>\n",
       "      <td>1.000000</td>\n",
       "      <td>0.000334</td>\n",
       "      <td>0.003190</td>\n",
       "      <td>-0.036749</td>\n",
       "      <td>0.027901</td>\n",
       "      <td>-0.001621</td>\n",
       "      <td>0.000639</td>\n",
       "      <td>0.130679</td>\n",
       "      <td>0.009191</td>\n",
       "      <td>-0.020756</td>\n",
       "    </tr>\n",
       "    <tr>\n",
       "      <th>duration</th>\n",
       "      <td>0.000334</td>\n",
       "      <td>1.000000</td>\n",
       "      <td>-0.073863</td>\n",
       "      <td>-0.048131</td>\n",
       "      <td>0.020827</td>\n",
       "      <td>-0.028538</td>\n",
       "      <td>0.006150</td>\n",
       "      <td>-0.007736</td>\n",
       "      <td>-0.034499</td>\n",
       "      <td>-0.046360</td>\n",
       "    </tr>\n",
       "    <tr>\n",
       "      <th>campaign</th>\n",
       "      <td>0.003190</td>\n",
       "      <td>-0.073863</td>\n",
       "      <td>1.000000</td>\n",
       "      <td>0.051421</td>\n",
       "      <td>-0.078104</td>\n",
       "      <td>0.148835</td>\n",
       "      <td>0.126651</td>\n",
       "      <td>-0.013280</td>\n",
       "      <td>0.133456</td>\n",
       "      <td>0.141781</td>\n",
       "    </tr>\n",
       "    <tr>\n",
       "      <th>pdays</th>\n",
       "      <td>-0.036749</td>\n",
       "      <td>-0.048131</td>\n",
       "      <td>0.051421</td>\n",
       "      <td>1.000000</td>\n",
       "      <td>-0.590812</td>\n",
       "      <td>0.270868</td>\n",
       "      <td>0.074684</td>\n",
       "      <td>-0.085702</td>\n",
       "      <td>0.298457</td>\n",
       "      <td>0.373874</td>\n",
       "    </tr>\n",
       "    <tr>\n",
       "      <th>previous</th>\n",
       "      <td>0.027901</td>\n",
       "      <td>0.020827</td>\n",
       "      <td>-0.078104</td>\n",
       "      <td>-0.590812</td>\n",
       "      <td>1.000000</td>\n",
       "      <td>-0.420684</td>\n",
       "      <td>-0.201176</td>\n",
       "      <td>-0.054443</td>\n",
       "      <td>-0.455108</td>\n",
       "      <td>-0.500831</td>\n",
       "    </tr>\n",
       "    <tr>\n",
       "      <th>emp.var.rate</th>\n",
       "      <td>-0.001621</td>\n",
       "      <td>-0.028538</td>\n",
       "      <td>0.148835</td>\n",
       "      <td>0.270868</td>\n",
       "      <td>-0.420684</td>\n",
       "      <td>1.000000</td>\n",
       "      <td>0.773944</td>\n",
       "      <td>0.194406</td>\n",
       "      <td>0.972123</td>\n",
       "      <td>0.906342</td>\n",
       "    </tr>\n",
       "    <tr>\n",
       "      <th>cons.price.idx</th>\n",
       "      <td>0.000639</td>\n",
       "      <td>0.006150</td>\n",
       "      <td>0.126651</td>\n",
       "      <td>0.074684</td>\n",
       "      <td>-0.201176</td>\n",
       "      <td>0.773944</td>\n",
       "      <td>1.000000</td>\n",
       "      <td>0.057535</td>\n",
       "      <td>0.685438</td>\n",
       "      <td>0.517905</td>\n",
       "    </tr>\n",
       "    <tr>\n",
       "      <th>cons.conf.idx</th>\n",
       "      <td>0.130679</td>\n",
       "      <td>-0.007736</td>\n",
       "      <td>-0.013280</td>\n",
       "      <td>-0.085702</td>\n",
       "      <td>-0.054443</td>\n",
       "      <td>0.194406</td>\n",
       "      <td>0.057535</td>\n",
       "      <td>1.000000</td>\n",
       "      <td>0.276019</td>\n",
       "      <td>0.099618</td>\n",
       "    </tr>\n",
       "    <tr>\n",
       "      <th>euribor3m</th>\n",
       "      <td>0.009191</td>\n",
       "      <td>-0.034499</td>\n",
       "      <td>0.133456</td>\n",
       "      <td>0.298457</td>\n",
       "      <td>-0.455108</td>\n",
       "      <td>0.972123</td>\n",
       "      <td>0.685438</td>\n",
       "      <td>0.276019</td>\n",
       "      <td>1.000000</td>\n",
       "      <td>0.945042</td>\n",
       "    </tr>\n",
       "    <tr>\n",
       "      <th>nr.employed</th>\n",
       "      <td>-0.020756</td>\n",
       "      <td>-0.046360</td>\n",
       "      <td>0.141781</td>\n",
       "      <td>0.373874</td>\n",
       "      <td>-0.500831</td>\n",
       "      <td>0.906342</td>\n",
       "      <td>0.517905</td>\n",
       "      <td>0.099618</td>\n",
       "      <td>0.945042</td>\n",
       "      <td>1.000000</td>\n",
       "    </tr>\n",
       "  </tbody>\n",
       "</table>\n",
       "</div>"
      ],
      "text/plain": [
       "                     age  duration  campaign     pdays  previous  \\\n",
       "age             1.000000  0.000334  0.003190 -0.036749  0.027901   \n",
       "duration        0.000334  1.000000 -0.073863 -0.048131  0.020827   \n",
       "campaign        0.003190 -0.073863  1.000000  0.051421 -0.078104   \n",
       "pdays          -0.036749 -0.048131  0.051421  1.000000 -0.590812   \n",
       "previous        0.027901  0.020827 -0.078104 -0.590812  1.000000   \n",
       "emp.var.rate   -0.001621 -0.028538  0.148835  0.270868 -0.420684   \n",
       "cons.price.idx  0.000639  0.006150  0.126651  0.074684 -0.201176   \n",
       "cons.conf.idx   0.130679 -0.007736 -0.013280 -0.085702 -0.054443   \n",
       "euribor3m       0.009191 -0.034499  0.133456  0.298457 -0.455108   \n",
       "nr.employed    -0.020756 -0.046360  0.141781  0.373874 -0.500831   \n",
       "\n",
       "                emp.var.rate  cons.price.idx  cons.conf.idx  euribor3m  \\\n",
       "age                -0.001621        0.000639       0.130679   0.009191   \n",
       "duration           -0.028538        0.006150      -0.007736  -0.034499   \n",
       "campaign            0.148835        0.126651      -0.013280   0.133456   \n",
       "pdays               0.270868        0.074684      -0.085702   0.298457   \n",
       "previous           -0.420684       -0.201176      -0.054443  -0.455108   \n",
       "emp.var.rate        1.000000        0.773944       0.194406   0.972123   \n",
       "cons.price.idx      0.773944        1.000000       0.057535   0.685438   \n",
       "cons.conf.idx       0.194406        0.057535       1.000000   0.276019   \n",
       "euribor3m           0.972123        0.685438       0.276019   1.000000   \n",
       "nr.employed         0.906342        0.517905       0.099618   0.945042   \n",
       "\n",
       "                nr.employed  \n",
       "age               -0.020756  \n",
       "duration          -0.046360  \n",
       "campaign           0.141781  \n",
       "pdays              0.373874  \n",
       "previous          -0.500831  \n",
       "emp.var.rate       0.906342  \n",
       "cons.price.idx     0.517905  \n",
       "cons.conf.idx      0.099618  \n",
       "euribor3m          0.945042  \n",
       "nr.employed        1.000000  "
      ]
     },
     "metadata": {},
     "execution_count": 9
    }
   ],
   "metadata": {}
  },
  {
   "cell_type": "code",
   "execution_count": 10,
   "source": [
    "# Extract the upper triangle of the correlation matrix (excluding the diagonal)\r\n",
    "upper_triangle = corr.where(np.triu(np.ones(corr.shape), k=1).astype(bool))\r\n",
    "\r\n",
    "# Flatten and sort the values\r\n",
    "sorted_values = upper_triangle.stack().sort_values(ascending=False)\r\n",
    "\r\n",
    "print(sorted_values)"
   ],
   "outputs": [
    {
     "output_type": "stream",
     "name": "stdout",
     "text": [
      "emp.var.rate    euribor3m         0.972123\n",
      "euribor3m       nr.employed       0.945042\n",
      "emp.var.rate    nr.employed       0.906342\n",
      "                cons.price.idx    0.773944\n",
      "cons.price.idx  euribor3m         0.685438\n",
      "                nr.employed       0.517905\n",
      "pdays           nr.employed       0.373874\n",
      "                euribor3m         0.298457\n",
      "cons.conf.idx   euribor3m         0.276019\n",
      "pdays           emp.var.rate      0.270868\n",
      "emp.var.rate    cons.conf.idx     0.194406\n",
      "campaign        emp.var.rate      0.148835\n",
      "                nr.employed       0.141781\n",
      "                euribor3m         0.133456\n",
      "age             cons.conf.idx     0.130679\n",
      "campaign        cons.price.idx    0.126651\n",
      "cons.conf.idx   nr.employed       0.099618\n",
      "pdays           cons.price.idx    0.074684\n",
      "cons.price.idx  cons.conf.idx     0.057535\n",
      "campaign        pdays             0.051421\n",
      "age             previous          0.027901\n",
      "duration        previous          0.020827\n",
      "age             euribor3m         0.009191\n",
      "duration        cons.price.idx    0.006150\n",
      "age             campaign          0.003190\n",
      "                cons.price.idx    0.000639\n",
      "                duration          0.000334\n",
      "                emp.var.rate     -0.001621\n",
      "duration        cons.conf.idx    -0.007736\n",
      "campaign        cons.conf.idx    -0.013280\n",
      "age             nr.employed      -0.020756\n",
      "duration        emp.var.rate     -0.028538\n",
      "                euribor3m        -0.034499\n",
      "age             pdays            -0.036749\n",
      "duration        nr.employed      -0.046360\n",
      "                pdays            -0.048131\n",
      "previous        cons.conf.idx    -0.054443\n",
      "duration        campaign         -0.073863\n",
      "campaign        previous         -0.078104\n",
      "pdays           cons.conf.idx    -0.085702\n",
      "previous        cons.price.idx   -0.201176\n",
      "                emp.var.rate     -0.420684\n",
      "                euribor3m        -0.455108\n",
      "                nr.employed      -0.500831\n",
      "pdays           previous         -0.590812\n",
      "dtype: float64\n"
     ]
    }
   ],
   "metadata": {}
  },
  {
   "cell_type": "code",
   "execution_count": 14,
   "source": [
    "plt.figure(figsize=(8, 6))\r\n",
    "plt.scatter(df['euribor3m'], df['emp.var.rate'], alpha=0.5)  # Plotting a scatter plot\r\n",
    "plt.title('Scatter Plot of X vs Y')\r\n",
    "plt.xlabel('euribor3m')\r\n",
    "plt.ylabel('emp.var.rate')\r\n",
    "plt.grid(True)\r\n",
    "plt.show()"
   ],
   "outputs": [
    {
     "output_type": "display_data",
     "data": {
      "image/png": "[encoded data removed]",
      "text/plain": [
       "<Figure size 800x600 with 1 Axes>"
      ]
     },
     "metadata": {}
    }
   ],
   "metadata": {}
  },
  {
   "cell_type": "code",
   "execution_count": 15,
   "source": [
    "plt.figure(figsize=(8, 6))\r\n",
    "plt.scatter(df['euribor3m'], df['nr.employed'], alpha=0.5)  # Plotting a scatter plot\r\n",
    "plt.title('Scatter Plot of X vs Y')\r\n",
    "plt.xlabel('euribor3m')\r\n",
    "plt.ylabel('nr.employed')\r\n",
    "plt.grid(True)\r\n",
    "plt.show()"
   ],
   "outputs": [
    {
     "output_type": "display_data",
     "data": {
      "image/png": "[encoded data removed]",
      "text/plain": [
       "<Figure size 800x600 with 1 Axes>"
      ]
     },
     "metadata": {}
    }
   ],
   "metadata": {}
  },
  {
   "cell_type": "code",
   "execution_count": 16,
   "source": [
    "df_clean = df.drop(columns=['emp.var.rate', 'nr.employed'])"
   ],
   "outputs": [],
   "metadata": {}
  },
  {
   "cell_type": "code",
   "execution_count": 18,
   "source": [
    "clean_corr = df_clean.corr(numeric_only=True)"
   ],
   "outputs": [],
   "metadata": {}
  },
  {
   "cell_type": "code",
   "execution_count": 20,
   "source": [
    "# Extract the upper triangle of the correlation matrix (excluding the diagonal)\r\n",
    "upper_triangle = clean_corr.where(np.triu(np.ones(clean_corr.shape), k=1).astype(bool))\r\n",
    "\r\n",
    "# Flatten and sort the values\r\n",
    "sorted_values = upper_triangle.stack().sort_values(ascending=False)\r\n",
    "\r\n",
    "print(sorted_values)"
   ],
   "outputs": [
    {
     "output_type": "stream",
     "name": "stdout",
     "text": [
      "cons.price.idx  euribor3m         0.685438\n",
      "pdays           euribor3m         0.298457\n",
      "cons.conf.idx   euribor3m         0.276019\n",
      "campaign        euribor3m         0.133456\n",
      "age             cons.conf.idx     0.130679\n",
      "campaign        cons.price.idx    0.126651\n",
      "pdays           cons.price.idx    0.074684\n",
      "cons.price.idx  cons.conf.idx     0.057535\n",
      "campaign        pdays             0.051421\n",
      "age             previous          0.027901\n",
      "duration        previous          0.020827\n",
      "age             euribor3m         0.009191\n",
      "duration        cons.price.idx    0.006150\n",
      "age             campaign          0.003190\n",
      "                cons.price.idx    0.000639\n",
      "                duration          0.000334\n",
      "duration        cons.conf.idx    -0.007736\n",
      "campaign        cons.conf.idx    -0.013280\n",
      "duration        euribor3m        -0.034499\n",
      "age             pdays            -0.036749\n",
      "duration        pdays            -0.048131\n",
      "previous        cons.conf.idx    -0.054443\n",
      "duration        campaign         -0.073863\n",
      "campaign        previous         -0.078104\n",
      "pdays           cons.conf.idx    -0.085702\n",
      "previous        cons.price.idx   -0.201176\n",
      "                euribor3m        -0.455108\n",
      "pdays           previous         -0.590812\n",
      "dtype: float64\n"
     ]
    }
   ],
   "metadata": {}
  },
  {
   "cell_type": "code",
   "execution_count": 21,
   "source": [
    "plt.figure(figsize=(8, 6))\n",
    "plt.scatter(df['euribor3m'], df['cons.price.idx'], alpha=0.5)  # Plotting a scatter plot\n",
    "plt.title('Scatter Plot of X vs Y')\n",
    "plt.xlabel('euribor3m')\n",
    "plt.ylabel('cons.price.idx')\n",
    "plt.grid(True)\n",
    "plt.show()"
   ],
   "outputs": [
    {
     "output_type": "display_data",
     "data": {
      "image/png": "[encoded data removed]",
      "text/plain": [
       "<Figure size 800x600 with 1 Axes>"
      ]
     },
     "metadata": {}
    }
   ],
   "metadata": {}
  },
  {
   "cell_type": "code",
   "execution_count": 34,
   "source": [
    "df['pdays'].value_counts()\n"
   ],
   "outputs": [
    {
     "output_type": "execute_result",
     "data": {
      "text/plain": [
       "999    31722\n",
       "3        359\n",
       "6        325\n",
       "4        101\n",
       "12        54\n",
       "7         48\n",
       "9         48\n",
       "2         47\n",
       "10        46\n",
       "5         38\n",
       "13        26\n",
       "11        21\n",
       "1         20\n",
       "15        17\n",
       "14        17\n",
       "8         15\n",
       "0         12\n",
       "16        10\n",
       "17         7\n",
       "18         6\n",
       "19         3\n",
       "22         2\n",
       "21         2\n",
       "25         1\n",
       "26         1\n",
       "27         1\n",
       "20         1\n",
       "Name: pdays, dtype: int64"
      ]
     },
     "metadata": {},
     "execution_count": 34
    }
   ],
   "metadata": {}
  },
  {
   "cell_type": "code",
   "execution_count": 35,
   "source": [
    "(31722)/(len(df))"
   ],
   "outputs": [
    {
     "output_type": "execute_result",
     "data": {
      "text/plain": [
       "0.9627314112291351"
      ]
     },
     "metadata": {},
     "execution_count": 35
    }
   ],
   "metadata": {}
  },
  {
   "cell_type": "code",
   "execution_count": null,
   "source": [],
   "outputs": [],
   "metadata": {}
  }
 ],
 "metadata": {
  "kernelspec": {
   "display_name": "Python 3 (ipykernel)",
   "language": "python",
   "name": "python3"
  },
  "language_info": {
   "codemirror_mode": {
    "name": "ipython",
    "version": 3
   },
   "file_extension": ".py",
   "mimetype": "text/x-python",
   "name": "python",
   "nbconvert_exporter": "python",
   "pygments_lexer": "ipython3",
   "version": "3.11.4"
  }
 },
 "nbformat": 4,
 "nbformat_minor": 5
}